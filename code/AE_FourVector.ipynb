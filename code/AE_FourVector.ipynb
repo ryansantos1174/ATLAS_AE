{
 "cells": [
  {
   "cell_type": "markdown",
   "id": "69b6e9cb",
   "metadata": {},
   "source": [
    "# Meeting Notes\n",
    "## June 24, 2021 Meeting: \n",
    "### Meeting Notes:\n",
    "* The autoencoder seems to be learning the test data really well but it is not able to apply that to the validation data (Overlearning)\n",
    "* There are a few ways that I could try to fix this: \n",
    "** See if the data that I'm inputting is somehow weird looking (I don't think so)\n",
    "** Set the AE to have a lower learning rate\n",
    "** Try different activation functions (Tanh, LeakyRelu, etc.)\n",
    "** Get rid of outliers\n",
    "** Change size of the AE (Different amount of layers, neurons etc.)\n",
    " ### To Do: \n",
    " * Try out different activation functions\n",
    " * Check data to make sure it isn't weird (Data is not weird)\n",
    " * Try different learning rate\n",
    " * Annotate Eric Wolf's Thesis and try to go through the same alterations that he did. "
   ]
  },
  {
   "cell_type": "code",
   "execution_count": 2,
   "id": "1aee7ae4",
   "metadata": {},
   "outputs": [],
   "source": [
    "import numpy as np \n",
    "import uproot \n",
    "import pandas as pd\n",
    "import matplotlib.pyplot as plt\n",
    "from sklearn.preprocessing import StandardScaler\n",
    "import functions as fun\n",
    "import sys\n",
    "\n",
    "def load_cms_data(filename=\"open_cms_data.root\"):\n",
    "    \"\"\"This function loads events data from open CMS root files\"\"\"\n",
    "\n",
    "    # The object returned by uproot.open represents a TDirectory inside the file (/).\n",
    "    # We are interested in the Events branch\n",
    "    events_tree = uproot.open(filename)['Events']\n",
    "\n",
    "    # events_tree.show(name_width=100, typename_width=100)\n",
    "\n",
    "    # The Collection we want is: recoPFJets_ak5PFJets__RECO\n",
    "\n",
    "    recoPFJets = events_tree['recoPFJets_ak5PFJets__RECO.']['recoPFJets_ak5PFJets__RECO.obj']\n",
    "    #recoPFJets.show(name_width=100, typename_width=100)\n",
    "\n",
    "    prefix = 'recoPFJets_ak5PFJets__RECO.obj.'\n",
    "    # Store the 27 variables we are interested in to a pandas dataframe\n",
    "    dataframe = recoPFJets.arrays(\n",
    "        [prefix + 'pt_', prefix + 'eta_', prefix + 'phi_', prefix + 'mass_', prefix + 'vertex_.fCoordinates.fX',\n",
    "         prefix + 'vertex_.fCoordinates.fY', prefix + 'vertex_.fCoordinates.fZ', prefix + 'mJetArea', prefix + 'mPileupEnergy',\n",
    "         prefix + 'm_specific.mChargedHadronEnergy', prefix + 'm_specific.mNeutralHadronEnergy',\n",
    "         prefix + 'm_specific.mPhotonEnergy', prefix + 'm_specific.mElectronEnergy',\n",
    "         prefix + 'm_specific.mMuonEnergy', prefix + 'm_specific.mHFHadronEnergy', prefix + 'm_specific.mHFEMEnergy',\n",
    "         prefix + 'm_specific.mChargedHadronMultiplicity', prefix + 'm_specific.mNeutralHadronMultiplicity',\n",
    "         prefix + 'm_specific.mPhotonMultiplicity', prefix + 'm_specific.mElectronMultiplicity', prefix + 'm_specific.mMuonMultiplicity',\n",
    "         prefix + 'm_specific.mHFHadronMultiplicity', prefix + 'm_specific.mHFEMMultiplicity',\n",
    "         prefix + 'm_specific.mChargedEmEnergy', prefix + 'm_specific.mChargedMuEnergy', prefix + 'm_specific.mNeutralEmEnergy',\n",
    "         prefix + 'm_specific.mChargedMultiplicity', prefix + 'm_specific.mNeutralMultiplicity'],       library=\"pd\")\n",
    "\n",
    "    prefix2 = 'ak5PFJets.'\n",
    "    # Rename the column names to be shorter\n",
    "    dataframe.columns = [prefix2 + 'pt_', prefix2 + 'eta_', prefix2 + 'phi_', prefix2 + 'mass_',\n",
    "                         prefix2 + 'fX', prefix2 + 'fY', prefix2 + 'fZ', prefix2 + 'mJetArea', prefix2 + 'mPileupEnergy',\n",
    "                         prefix2 + 'mChargedHadronEnergy', prefix2 + 'mNeutralHadronEnergy', prefix2 + 'mPhotonEnergy',\n",
    "                         prefix2 + 'mElectronEnergy', prefix2 + 'mMuonEnergy', prefix2 + 'mHFHadronEnergy',\n",
    "                         prefix2 + 'mHFEMEnergy', prefix2 + 'mChargedHadronMultiplicity', prefix2 + 'mNeutralHadronMultiplicity',\n",
    "                         prefix2 + 'mPhotonMultiplicity', prefix2 + 'mElectronMultiplicity', prefix2 + 'mMuonMultiplicity',\n",
    "                         prefix2 + 'mHFHadronMultiplicity', prefix2 + 'mHFEMMultiplicity', prefix2 + 'mChargedEmEnergy',\n",
    "                         prefix2 + 'mChargedMuEnergy', prefix2 + 'mNeutralEmEnergy', prefix2 + 'mChargedMultiplicity',\n",
    "                         prefix2 + 'mNeutralMultiplicity']\n",
    "\n",
    "\n",
    "    print(\"\\nDataframe:\")\n",
    "    print(dataframe.head()) #Only first 5 rows of df\n",
    "    dataframe.to_csv('27D_opensCMS_data.csv')\n",
    "    return dataframe\n",
    "\n",
    "\n"
   ]
  },
  {
   "cell_type": "code",
   "execution_count": 3,
   "id": "f5ead679",
   "metadata": {},
   "outputs": [
    {
     "name": "stdout",
     "output_type": "stream",
     "text": [
      "\n",
      "Dataframe:\n",
      "                ak5PFJets.pt_  ak5PFJets.eta_  ak5PFJets.phi_  \\\n",
      "entry subentry                                                  \n",
      "0     0             97.293968       -1.046758       -1.378504   \n",
      "      1             86.607674       -1.797043        2.055401   \n",
      "      2             40.815239       -1.400267        1.314550   \n",
      "      3             25.064486       -2.256013       -2.359081   \n",
      "      4             24.530922       -2.289618        0.647938   \n",
      "\n",
      "                ak5PFJets.mass_  ak5PFJets.fX  ak5PFJets.fY  ak5PFJets.fZ  \\\n",
      "entry subentry                                                              \n",
      "0     0               16.212225           0.0           0.0           0.0   \n",
      "      1               16.508511           0.0           0.0           0.0   \n",
      "      2               11.218516           0.0           0.0           0.0   \n",
      "      3                7.330747           0.0           0.0           0.0   \n",
      "      4                7.968142           0.0           0.0           0.0   \n",
      "\n",
      "                ak5PFJets.mJetArea  ak5PFJets.mPileupEnergy  \\\n",
      "entry subentry                                                \n",
      "0     0                   0.797865                      0.0   \n",
      "      1                   0.797865                      0.0   \n",
      "      2                   0.728052                      0.0   \n",
      "      3                   0.767945                      0.0   \n",
      "      4                   0.847731                      0.0   \n",
      "\n",
      "                ak5PFJets.mChargedHadronEnergy  ...  \\\n",
      "entry subentry                                  ...   \n",
      "0     0                              52.935665  ...   \n",
      "      1                              42.604038  ...   \n",
      "      2                              51.369270  ...   \n",
      "      3                              74.517921  ...   \n",
      "      4                             114.359840  ...   \n",
      "\n",
      "                ak5PFJets.mPhotonMultiplicity  \\\n",
      "entry subentry                                  \n",
      "0     0                                    13   \n",
      "      1                                     5   \n",
      "      2                                    18   \n",
      "      3                                     9   \n",
      "      4                                     2   \n",
      "\n",
      "                ak5PFJets.mElectronMultiplicity  ak5PFJets.mMuonMultiplicity  \\\n",
      "entry subentry                                                                 \n",
      "0     0                                       0                            1   \n",
      "      1                                       0                            0   \n",
      "      2                                       0                            0   \n",
      "      3                                       0                            0   \n",
      "      4                                       0                            0   \n",
      "\n",
      "                ak5PFJets.mHFHadronMultiplicity  ak5PFJets.mHFEMMultiplicity  \\\n",
      "entry subentry                                                                 \n",
      "0     0                                       0                            0   \n",
      "      1                                       0                            0   \n",
      "      2                                       0                            0   \n",
      "      3                                       0                            0   \n",
      "      4                                       0                            0   \n",
      "\n",
      "                ak5PFJets.mChargedEmEnergy  ak5PFJets.mChargedMuEnergy  \\\n",
      "entry subentry                                                           \n",
      "0     0                                0.0                   88.758575   \n",
      "      1                                0.0                    0.000000   \n",
      "      2                                0.0                    0.000000   \n",
      "      3                                0.0                    0.000000   \n",
      "      4                                0.0                    0.000000   \n",
      "\n",
      "                ak5PFJets.mNeutralEmEnergy  ak5PFJets.mChargedMultiplicity  \\\n",
      "entry subentry                                                               \n",
      "0     0                          10.335573                              19   \n",
      "      1                         212.496246                              16   \n",
      "      2                          26.866001                              16   \n",
      "      3                          35.574883                              15   \n",
      "      4                           8.216365                              15   \n",
      "\n",
      "                ak5PFJets.mNeutralMultiplicity  \n",
      "entry subentry                                  \n",
      "0     0                                     16  \n",
      "      1                                      8  \n",
      "      2                                     22  \n",
      "      3                                     10  \n",
      "      4                                      2  \n",
      "\n",
      "[5 rows x 28 columns]\n",
      "Altered df\n",
      "<class 'pandas.core.frame.DataFrame'>\n",
      "MultiIndex: 716446 entries, (0, 0) to (8049, 80)\n",
      "Data columns (total 4 columns):\n",
      " #   Column           Non-Null Count   Dtype  \n",
      "---  ------           --------------   -----  \n",
      " 0   ak5PFJets.pt_    716446 non-null  float32\n",
      " 1   ak5PFJets.eta_   716446 non-null  float32\n",
      " 2   ak5PFJets.phi_   716446 non-null  float32\n",
      " 3   ak5PFJets.mass_  716446 non-null  float32\n",
      "dtypes: float32(4)\n",
      "memory usage: 13.3 MB\n",
      "                ak5PFJets.pt_  ak5PFJets.eta_  ak5PFJets.phi_  ak5PFJets.mass_\n",
      "entry subentry                                                                \n",
      "0     0              1.470766       -0.373687       -0.761554         1.596869\n",
      "      1              1.272218       -0.640661        1.128548         1.637599\n",
      "      2              0.421406       -0.499476        0.720766         0.910392\n",
      "      3              0.128761       -0.803977       -1.301286         0.375947\n",
      "      4              0.118848       -0.815935        0.353848         0.463569\n"
     ]
    }
   ],
   "source": [
    "fourvector = load_cms_data()\n",
    "#Cutting off data so that only 4-vector data is left\n",
    "fourvector = fourvector.iloc[:,0:4]\n",
    "print(\"Altered df\")\n",
    "fourvector.info()\n",
    "#Normalize Data\n",
    "fourvector[fourvector.columns] = StandardScaler().fit_transform(fourvector)\n",
    "print(fourvector.head())\n",
    "#Dropping the value with pT > 20\n",
    "fourvector.drop(fourvector[fourvector['ak5PFJets.pt_']>400].index, inplace=True)\n",
    "\n"
   ]
  },
  {
   "cell_type": "code",
   "execution_count": 4,
   "id": "f4e72ead",
   "metadata": {},
   "outputs": [
    {
     "data": {
      "image/png": "[encoded data removed]",
      "text/plain": [
       "<Figure size 432x288 with 1 Axes>"
      ]
     },
     "metadata": {
      "needs_background": "light"
     },
     "output_type": "display_data"
    },
    {
     "data": {
      "image/png": "[encoded data removed]",
      "text/plain": [
       "<Figure size 432x288 with 1 Axes>"
      ]
     },
     "metadata": {
      "needs_background": "light"
     },
     "output_type": "display_data"
    },
    {
     "data": {
      "image/png": "[encoded data removed]",
      "text/plain": [
       "<Figure size 432x288 with 1 Axes>"
      ]
     },
     "metadata": {
      "needs_background": "light"
     },
     "output_type": "display_data"
    },
    {
     "data": {
      "image/png": "[encoded data removed]",
      "text/plain": [
       "<Figure size 432x288 with 1 Axes>"
      ]
     },
     "metadata": {
      "needs_background": "light"
     },
     "output_type": "display_data"
    }
   ],
   "source": [
    "#Plotting data before autoencoder\n",
    "\n",
    "n_bins = 100\n",
    "variable_list = [\"pt\", \"eta\", \"phi\", \"mass\"]\n",
    "branches=[\"ak5PFJets.pt_\",\"ak5PFJets.eta_\",\"ak5PFJets.phi_\", \"ak5PFJets.mass_\"]\n",
    "\n",
    "n_bins = 1000\n",
    "#mass and pt are in logscale\n",
    "for kk in range(0,4):\n",
    "    if kk ==0 or kk==3:\n",
    "        plt.yscale(\"log\")\n",
    "        plt.xlim(right=40)\n",
    "        \n",
    "    n_hist_data, bin_edges, _ = plt.hist(fourvector[branches[kk]], color='orange', label='Input', alpha=1, bins=n_bins)\n",
    "    plt.xlabel(xlabel=variable_list[kk])\n",
    "    plt.ylabel('# of events')\n",
    "    plt.savefig(\"./Original Data(4Vector)\")\n",
    "    plt.show()\n"
   ]
  },
  {
   "cell_type": "code",
   "execution_count": 5,
   "id": "42ab6d1e",
   "metadata": {},
   "outputs": [
    {
     "name": "stdout",
     "output_type": "stream",
     "text": [
      "Train data shape: \n",
      "(573156, 4)\n",
      "Test data shape: \n",
      "(143289, 4)\n"
     ]
    }
   ],
   "source": [
    "#Creating datasets for AE\n",
    "import torch\n",
    "import torch.nn as nn\n",
    "import torch.optim as optim\n",
    "import torch.utils.data\n",
    "from torch.autograd import Variable\n",
    "\n",
    "from torch.utils.data import TensorDataset\n",
    "from torch.utils.data import DataLoader\n",
    "\n",
    "from fastai import learner\n",
    "from fastai.data import core\n",
    "from sklearn.model_selection import train_test_split\n",
    "from sklearn.utils import shuffle\n",
    "\n",
    "fourvector = shuffle(fourvector)\n",
    "train_x, test_x = train_test_split(fourvector, test_size=0.2, random_state=1)\n",
    "train_y = train_x\n",
    "test_y = test_x\n",
    "print('Train data shape: ')\n",
    "print(train_x.shape)\n",
    "print('Test data shape: ')\n",
    "print(test_x.shape)\n",
    "\n",
    "data = torch.tensor(test_x.values, dtype=torch.float)\n",
    "\n",
    "train_ds = TensorDataset(torch.tensor(train_x.values, dtype=torch.float), torch.tensor(train_y.values, dtype=torch.float))\n",
    "valid_ds = TensorDataset(torch.tensor(test_x.values, dtype=torch.float), torch.tensor(test_y.values, dtype=torch.float))"
   ]
  },
  {
   "cell_type": "code",
   "execution_count": 6,
   "id": "e769ee98",
   "metadata": {},
   "outputs": [],
   "source": [
    "bs = 1024 #Initially set at 256, Trying 500, 1000, 100\n",
    "##512 is the first to not give spikes\n",
    "# Converts the TensorDataset into a DataLoader object and combines into one DataLoaders object (a basic wrapper\n",
    "# around several DataLoader objects). \n",
    "train_dl = DataLoader(train_ds, batch_size=bs, shuffle=True)\n",
    "valid_dl = DataLoader(valid_ds, batch_size=bs)\n",
    "dls = core.DataLoaders(train_dl, valid_dl)\n",
    "\n"
   ]
  },
  {
   "cell_type": "code",
   "execution_count": 7,
   "id": "75c91980",
   "metadata": {
    "scrolled": true
   },
   "outputs": [
    {
     "data": {
      "text/plain": [
       "AE_3D_200_LeakyReLU(\n",
       "  (en1): Linear(in_features=4, out_features=200, bias=True)\n",
       "  (en2): Linear(in_features=200, out_features=100, bias=True)\n",
       "  (en3): Linear(in_features=100, out_features=50, bias=True)\n",
       "  (en4): Linear(in_features=50, out_features=3, bias=True)\n",
       "  (de1): Linear(in_features=3, out_features=50, bias=True)\n",
       "  (de2): Linear(in_features=50, out_features=100, bias=True)\n",
       "  (de3): Linear(in_features=100, out_features=200, bias=True)\n",
       "  (de4): Linear(in_features=200, out_features=4, bias=True)\n",
       "  (tanh): Tanh()\n",
       ")"
      ]
     },
     "execution_count": 7,
     "metadata": {},
     "output_type": "execute_result"
    }
   ],
   "source": [
    "#Building AE\n",
    "class AE_3D_200_LeakyReLU(nn.Module):\n",
    "    def __init__(self, n_features=4):\n",
    "        super(AE_3D_200_LeakyReLU, self).__init__()\n",
    "        self.en1 = nn.Linear(n_features, 200)\n",
    "        self.en2 = nn.Linear(200,100)\n",
    "        self.en3 = nn.Linear(100,50)\n",
    "        self.en4 = nn.Linear(50,3)\n",
    "        self.de1 = nn.Linear(3, 50)\n",
    "        self.de2 = nn.Linear(50, 100)\n",
    "        self.de3 = nn.Linear(100,200)\n",
    "        self.de4 = nn.Linear(200, n_features)\n",
    "        self.relu = False\n",
    "        if self.relu:\n",
    "            self.leakyRelu = nn.LeakyReLU()\n",
    "        else:\n",
    "            self.tanh = nn.Tanh()\n",
    "        \n",
    "    def encode(self, x):\n",
    "        if self.relu:\n",
    "            return self.en4(self.leakyRelu(self.en3(self.leakyRelu(self.en2(self.leakyRelu(self.en1(x)))))))\n",
    "        else:\n",
    "            return self.en4(self.tanh(self.en3(self.tanh(self.en2(self.tanh(self.en1(x)))))))\n",
    "\n",
    "    def decode(self, x):\n",
    "        if self.relu:\n",
    "            return self.de4(self.leakyRelu(self.de3(self.leakyRelu(self.de2(self.leakyRelu(self.de1(self.leakyRelu(x))))))))\n",
    "        else:\n",
    "            return self.de4(self.tanh(self.de3(self.tanh(self.de2(self.tanh(self.de1(self.tanh(x))))))))\n",
    "\n",
    "    def forward(self, x):\n",
    "        z = self.encode(x)\n",
    "        return self.decode(z)\n",
    "\n",
    "    def describe(self):\n",
    "        return '4-200-100-50-3'\n",
    "\n",
    "\n",
    "model = AE_3D_200_LeakyReLU()\n",
    "model.to('cpu')"
   ]
  },
  {
   "cell_type": "code",
   "execution_count": 8,
   "id": "d7fdc5d8",
   "metadata": {},
   "outputs": [],
   "source": [
    "\n",
    "from fastai.metrics import mse, partial\n",
    "from fastai.callback.tracker import EarlyStoppingCallback\n",
    "from fastai.test_utils import *\n",
    "\n",
    "loss_function = nn.MSELoss()\n",
    "weight_decay = 1e-6\n",
    "\n",
    "recorder = learner.Recorder()\n",
    "\n",
    "learn = learner.Learner(dls, model=model, wd=weight_decay, loss_func=loss_function, cbs=recorder)\n"
   ]
  },
  {
   "cell_type": "code",
   "execution_count": 9,
   "id": "6e50a33a",
   "metadata": {
    "scrolled": false
   },
   "outputs": [
    {
     "data": {
      "text/html": [
       "<table border=\"1\" class=\"dataframe\">\n",
       "  <thead>\n",
       "    <tr style=\"text-align: left;\">\n",
       "      <th>epoch</th>\n",
       "      <th>train_loss</th>\n",
       "      <th>valid_loss</th>\n",
       "      <th>time</th>\n",
       "    </tr>\n",
       "  </thead>\n",
       "  <tbody>\n",
       "    <tr>\n",
       "      <td>0</td>\n",
       "      <td>0.016246</td>\n",
       "      <td>0.016753</td>\n",
       "      <td>00:13</td>\n",
       "    </tr>\n",
       "    <tr>\n",
       "      <td>0</td>\n",
       "      <td>0.016246</td>\n",
       "      <td>0.016753</td>\n",
       "      <td>00:13</td>\n",
       "    </tr>\n",
       "  </tbody>\n",
       "</table>"
      ],
      "text/plain": [
       "<IPython.core.display.HTML object>"
      ]
     },
     "metadata": {},
     "output_type": "display_data"
    },
    {
     "name": "stdout",
     "output_type": "stream",
     "text": [
      "13.561785844998667\n"
     ]
    }
   ],
   "source": [
    "#Training the AE\n",
    "import time\n",
    "from fastai.callback import schedule\n",
    "\n",
    "\n",
    "start = time.perf_counter() # Starts timer\n",
    "# train our autoencoder for 100 epochs\n",
    "learn.fit_one_cycle(1, 0.00108)\n",
    "end = time.perf_counter() # Ends timer\n",
    "delta_t = end - start\n",
    "print(delta_t)\n",
    "\n"
   ]
  },
  {
   "cell_type": "code",
   "execution_count": 10,
   "id": "b0fceac0",
   "metadata": {
    "scrolled": true
   },
   "outputs": [
    {
     "data": {
      "image/png": "[encoded data removed]",
      "text/plain": [
       "<Figure size 432x288 with 1 Axes>"
      ]
     },
     "metadata": {
      "needs_background": "light"
     },
     "output_type": "display_data"
    }
   ],
   "source": [
    "recorder.plot_loss()\n",
    "  "
   ]
  },
  {
   "cell_type": "code",
   "execution_count": 11,
   "id": "71a62773",
   "metadata": {},
   "outputs": [
    {
     "data": {
      "text/html": [],
      "text/plain": [
       "<IPython.core.display.HTML object>"
      ]
     },
     "metadata": {},
     "output_type": "display_data"
    },
    {
     "data": {
      "text/plain": [
       "(#1) [0.01675264909863472]"
      ]
     },
     "execution_count": 11,
     "metadata": {},
     "output_type": "execute_result"
    }
   ],
   "source": [
    "learn.validate()\n"
   ]
  },
  {
   "cell_type": "code",
   "execution_count": 12,
   "id": "13a431c8",
   "metadata": {},
   "outputs": [],
   "source": [
    "#ResidualsPlot\n",
    "\n",
    "\n"
   ]
  },
  {
   "cell_type": "code",
   "execution_count": 13,
   "id": "f088eeaa",
   "metadata": {
    "scrolled": true
   },
   "outputs": [
    {
     "data": {
      "image/png": "[encoded data removed]",
      "text/plain": [
       "<Figure size 432x288 with 1 Axes>"
      ]
     },
     "metadata": {
      "needs_background": "light"
     },
     "output_type": "display_data"
    },
    {
     "data": {
      "image/png": "[encoded data removed]",
      "text/plain": [
       "<Figure size 432x288 with 1 Axes>"
      ]
     },
     "metadata": {
      "needs_background": "light"
     },
     "output_type": "display_data"
    },
    {
     "data": {
      "image/png": "[encoded data removed]",
      "text/plain": [
       "<Figure size 432x288 with 1 Axes>"
      ]
     },
     "metadata": {
      "needs_background": "light"
     },
     "output_type": "display_data"
    },
    {
     "data": {
      "image/png": "[encoded data removed]",
      "text/plain": [
       "<Figure size 432x288 with 1 Axes>"
      ]
     },
     "metadata": {
      "needs_background": "light"
     },
     "output_type": "display_data"
    }
   ],
   "source": [
    "#Graphing the final results\n",
    "import os\n",
    "\n",
    "plt.close('all')\n",
    "unit_list = ['[GeV]', '[rad]', '[rad]', '[GeV]']\n",
    "variable_list = [r'$p_T$', r'$\\eta$', r'$\\phi$', r'$E$']\n",
    "line_style = ['--', '-']\n",
    "colors = ['pink', 'green']\n",
    "markers = ['*', 's']\n",
    "\n",
    "model.to('cpu')\n",
    "save = True\n",
    "idxs = (0, 10000)  # Choose events to compare\n",
    "data = torch.tensor(test_x[idxs[0]:idxs[1]].values, dtype=torch.float)\n",
    "\n",
    "pred = model(data)\n",
    "pred = pred.detach().numpy()\n",
    "data = data.detach().numpy()\n",
    "\n",
    "data_df = pd.DataFrame(data, columns=test_x.columns)\n",
    "pred_df = pd.DataFrame(pred, columns=test_x.columns)\n",
    "\n",
    "alph = 0.8\n",
    "n_bins = 200\n",
    "save_dir = '.'\n",
    "\n",
    "for kk in np.arange(4):\n",
    "    plt.figure()\n",
    "    n_hist_data, bin_edges, _ = plt.hist(data[:, kk], color=colors[1], label='Input', alpha=1, bins=n_bins)\n",
    "    n_hist_pred, _, _ = plt.hist(pred[:, kk], color=colors[0], label='Output', alpha=alph, bins=bin_edges)\n",
    "    plt.suptitle(test_x.columns[kk])\n",
    "    plt.xlabel(test_x.columns[kk])\n",
    "    plt.ylabel('Number of events')\n",
    "    # ms.sciy()\n",
    "    plt.yscale('log')\n",
    "    if save:\n",
    "        plt.savefig(os.path.join(save_dir,test_x.columns[kk]+'.png'))\n",
    "    plt.legend()"
   ]
  },
  {
   "cell_type": "code",
   "execution_count": 14,
   "id": "2da7d7af",
   "metadata": {},
   "outputs": [],
   "source": [
    "def sep_list(inceptionList):\n",
    "    list1 = []\n",
    "    list2 = []\n",
    "    list3 = []\n",
    "    list4 = []\n",
    "    for i in inceptionList:\n",
    "        list1.append(i[0])\n",
    "        list2.append(i[1])\n",
    "        list3.append(i[2])\n",
    "        list4.append(i[3])\n",
    "    return list1, list2, list3, list4"
   ]
  },
  {
   "cell_type": "code",
   "execution_count": 15,
   "id": "f06e5d67",
   "metadata": {},
   "outputs": [
    {
     "data": {
      "text/html": [
       "<div>\n",
       "<style scoped>\n",
       "    .dataframe tbody tr th:only-of-type {\n",
       "        vertical-align: middle;\n",
       "    }\n",
       "\n",
       "    .dataframe tbody tr th {\n",
       "        vertical-align: top;\n",
       "    }\n",
       "\n",
       "    .dataframe thead th {\n",
       "        text-align: right;\n",
       "    }\n",
       "</style>\n",
       "<table border=\"1\" class=\"dataframe\">\n",
       "  <thead>\n",
       "    <tr style=\"text-align: right;\">\n",
       "      <th></th>\n",
       "      <th>ak5PFJets.pt_</th>\n",
       "      <th>ak5PFJets.eta_</th>\n",
       "      <th>ak5PFJets.phi_</th>\n",
       "      <th>ak5PFJets.mass_</th>\n",
       "      <th>residual_pt</th>\n",
       "      <th>residual_eta</th>\n",
       "      <th>residual_phi</th>\n",
       "      <th>residual_mass</th>\n",
       "    </tr>\n",
       "  </thead>\n",
       "  <tbody>\n",
       "    <tr>\n",
       "      <th>0</th>\n",
       "      <td>-0.198133</td>\n",
       "      <td>1.299191</td>\n",
       "      <td>-1.549799</td>\n",
       "      <td>-0.298651</td>\n",
       "      <td>0.020486</td>\n",
       "      <td>0.002952</td>\n",
       "      <td>0.022197</td>\n",
       "      <td>0.017902</td>\n",
       "    </tr>\n",
       "    <tr>\n",
       "      <th>1</th>\n",
       "      <td>-0.239573</td>\n",
       "      <td>0.199863</td>\n",
       "      <td>-1.720053</td>\n",
       "      <td>-0.378764</td>\n",
       "      <td>0.048916</td>\n",
       "      <td>0.029903</td>\n",
       "      <td>0.024806</td>\n",
       "      <td>0.022624</td>\n",
       "    </tr>\n",
       "    <tr>\n",
       "      <th>2</th>\n",
       "      <td>0.006924</td>\n",
       "      <td>-1.033798</td>\n",
       "      <td>-0.888096</td>\n",
       "      <td>0.083591</td>\n",
       "      <td>0.013740</td>\n",
       "      <td>0.023058</td>\n",
       "      <td>0.003885</td>\n",
       "      <td>0.058311</td>\n",
       "    </tr>\n",
       "    <tr>\n",
       "      <th>3</th>\n",
       "      <td>-0.246172</td>\n",
       "      <td>0.180571</td>\n",
       "      <td>-1.655057</td>\n",
       "      <td>-0.461421</td>\n",
       "      <td>0.086636</td>\n",
       "      <td>0.026357</td>\n",
       "      <td>0.031314</td>\n",
       "      <td>0.051415</td>\n",
       "    </tr>\n",
       "    <tr>\n",
       "      <th>4</th>\n",
       "      <td>-0.070145</td>\n",
       "      <td>-0.811748</td>\n",
       "      <td>-1.198573</td>\n",
       "      <td>0.042225</td>\n",
       "      <td>0.036743</td>\n",
       "      <td>0.027491</td>\n",
       "      <td>0.002022</td>\n",
       "      <td>0.082462</td>\n",
       "    </tr>\n",
       "    <tr>\n",
       "      <th>...</th>\n",
       "      <td>...</td>\n",
       "      <td>...</td>\n",
       "      <td>...</td>\n",
       "      <td>...</td>\n",
       "      <td>...</td>\n",
       "      <td>...</td>\n",
       "      <td>...</td>\n",
       "      <td>...</td>\n",
       "    </tr>\n",
       "    <tr>\n",
       "      <th>143284</th>\n",
       "      <td>0.418451</td>\n",
       "      <td>-0.237334</td>\n",
       "      <td>1.673685</td>\n",
       "      <td>0.533520</td>\n",
       "      <td>0.073718</td>\n",
       "      <td>0.013178</td>\n",
       "      <td>0.020573</td>\n",
       "      <td>0.079721</td>\n",
       "    </tr>\n",
       "    <tr>\n",
       "      <th>143285</th>\n",
       "      <td>-0.083787</td>\n",
       "      <td>0.440593</td>\n",
       "      <td>0.571191</td>\n",
       "      <td>0.111853</td>\n",
       "      <td>0.095104</td>\n",
       "      <td>0.013117</td>\n",
       "      <td>0.012691</td>\n",
       "      <td>0.087553</td>\n",
       "    </tr>\n",
       "    <tr>\n",
       "      <th>143286</th>\n",
       "      <td>-0.170062</td>\n",
       "      <td>-0.668527</td>\n",
       "      <td>1.703550</td>\n",
       "      <td>-0.199729</td>\n",
       "      <td>0.007243</td>\n",
       "      <td>0.031864</td>\n",
       "      <td>0.009359</td>\n",
       "      <td>0.005916</td>\n",
       "    </tr>\n",
       "    <tr>\n",
       "      <th>143287</th>\n",
       "      <td>-0.087379</td>\n",
       "      <td>-0.667371</td>\n",
       "      <td>1.028222</td>\n",
       "      <td>0.050081</td>\n",
       "      <td>0.071026</td>\n",
       "      <td>0.001010</td>\n",
       "      <td>0.004496</td>\n",
       "      <td>0.060441</td>\n",
       "    </tr>\n",
       "    <tr>\n",
       "      <th>143288</th>\n",
       "      <td>-0.243710</td>\n",
       "      <td>-1.752551</td>\n",
       "      <td>-0.930861</td>\n",
       "      <td>-0.429985</td>\n",
       "      <td>0.045358</td>\n",
       "      <td>0.057578</td>\n",
       "      <td>0.012711</td>\n",
       "      <td>0.066197</td>\n",
       "    </tr>\n",
       "  </tbody>\n",
       "</table>\n",
       "<p>143289 rows × 8 columns</p>\n",
       "</div>"
      ],
      "text/plain": [
       "        ak5PFJets.pt_  ak5PFJets.eta_  ak5PFJets.phi_  ak5PFJets.mass_  \\\n",
       "0           -0.198133        1.299191       -1.549799        -0.298651   \n",
       "1           -0.239573        0.199863       -1.720053        -0.378764   \n",
       "2            0.006924       -1.033798       -0.888096         0.083591   \n",
       "3           -0.246172        0.180571       -1.655057        -0.461421   \n",
       "4           -0.070145       -0.811748       -1.198573         0.042225   \n",
       "...               ...             ...             ...              ...   \n",
       "143284       0.418451       -0.237334        1.673685         0.533520   \n",
       "143285      -0.083787        0.440593        0.571191         0.111853   \n",
       "143286      -0.170062       -0.668527        1.703550        -0.199729   \n",
       "143287      -0.087379       -0.667371        1.028222         0.050081   \n",
       "143288      -0.243710       -1.752551       -0.930861        -0.429985   \n",
       "\n",
       "        residual_pt  residual_eta  residual_phi  residual_mass  \n",
       "0          0.020486      0.002952      0.022197       0.017902  \n",
       "1          0.048916      0.029903      0.024806       0.022624  \n",
       "2          0.013740      0.023058      0.003885       0.058311  \n",
       "3          0.086636      0.026357      0.031314       0.051415  \n",
       "4          0.036743      0.027491      0.002022       0.082462  \n",
       "...             ...           ...           ...            ...  \n",
       "143284     0.073718      0.013178      0.020573       0.079721  \n",
       "143285     0.095104      0.013117      0.012691       0.087553  \n",
       "143286     0.007243      0.031864      0.009359       0.005916  \n",
       "143287     0.071026      0.001010      0.004496       0.060441  \n",
       "143288     0.045358      0.057578      0.012711       0.066197  \n",
       "\n",
       "[143289 rows x 8 columns]"
      ]
     },
     "metadata": {},
     "output_type": "display_data"
    },
    {
     "data": {
      "image/png": "[encoded data removed]",
      "text/plain": [
       "<Figure size 432x288 with 1 Axes>"
      ]
     },
     "metadata": {
      "needs_background": "light"
     },
     "output_type": "display_data"
    },
    {
     "data": {
      "image/png": "[encoded data removed]",
      "text/plain": [
       "<Figure size 432x288 with 1 Axes>"
      ]
     },
     "metadata": {
      "needs_background": "light"
     },
     "output_type": "display_data"
    },
    {
     "name": "stdout",
     "output_type": "stream",
     "text": [
      "This is the train data [[-6.6509143e-02 -9.7130960e-01 -1.5305424e+00 -3.4133874e-02]\n",
      " [ 5.4716453e-02 -1.3408616e+00  1.0634842e+00  2.6599312e-01]\n",
      " [-1.6547054e-01  4.8219076e-01 -2.0272338e-01 -2.4768057e-01]\n",
      " ...\n",
      " [-6.2442258e-02  2.3325889e-01  1.4673092e+00  4.4408027e-04]\n",
      " [ 1.5452108e-01 -2.0280728e-01  1.0574096e+00  4.9106088e-01]\n",
      " [-1.9779445e-01  8.1839567e-01 -1.2345645e+00 -2.8242299e-01]]\n"
     ]
    }
   ],
   "source": [
    "#Plotting the residuals\n",
    "#This allows the data to be input into the model\n",
    "test_data = torch.tensor(test_x.values, dtype=torch.float)\n",
    "train_data = torch.tensor(train_x.values, dtype=torch.float)\n",
    "#This lets the model predict\n",
    "prediction_test = model(test_data)\n",
    "prediction_train = model(train_data)\n",
    "#This creates a numpy array out of the data\n",
    "prediction_test = prediction_test.detach().numpy()\n",
    "test_data = test_data.detach().numpy()\n",
    "prediction_train = prediction_train.detach().numpy()\n",
    "train_data = train_data.detach().numpy()\n",
    "\n",
    "\n",
    "#pred_test_df = (prediction_test, columns=test_x.columns)\n",
    "#pred_train_df = (prediction_train, columns=test_x.columns)\n",
    "\n",
    "test_data_df = pd.DataFrame(test_data, columns=test_x.columns)\n",
    "train_data_df = pd.DataFrame(train_data, columns=test_x.columns)\n",
    "\n",
    "#\n",
    "\n",
    "### Calculate the residuals \n",
    "residual_test = np.absolute(test_data - prediction_test)\n",
    "residual_train = np.absolute(train_data - prediction_train)\n",
    "residual_test_pt, residual_test_eta, residual_test_phi, residual_test_mass = sep_list(residual_test)\n",
    "residual_train_pt, residual_train_eta, residual_train_phi, residual_train_mass = sep_list(residual_train)\n",
    "#Adding residuals to dataframe\n",
    "test_data_df['residual_pt'] = residual_test_pt\n",
    "test_data_df['residual_eta'] = residual_test_eta\n",
    "test_data_df['residual_phi'] = residual_test_phi\n",
    "test_data_df['residual_mass'] = residual_test_mass\n",
    "\n",
    "train_data_df['residual_pt'] = residual_train_pt\n",
    "train_data_df['residual_eta'] = residual_train_eta\n",
    "train_data_df['residual_phi'] = residual_train_phi\n",
    "train_data_df['residual_mass'] = residual_train_mass\n",
    "\n",
    "#print(\"This is the test_data\", test_data)\n",
    "\n",
    "#print(\"This is the residual_test\", residual_test)\n",
    "display(test_data_df)\n",
    "\n",
    "\n",
    "plt.scatter(train_data_df['ak5PFJets.pt_'], train_data_df['residual_pt'])\n",
    "plt.xlabel(\"Data\")\n",
    "plt.ylabel(\"Residual\")\n",
    "plt.savefig(\"./ResidualTrain\")\n",
    "plt.show()\n",
    "plt.scatter(test_data_df['ak5PFJets.pt_'], test_data_df['residual_pt'])\n",
    "plt.xlabel(\"Data\")\n",
    "plt.ylabel(\"Residual\")\n",
    "plt.savefig(\"./ResidualTest\")\n",
    "plt.show()\n",
    "\n",
    "print(\"This is the train data\", train_data)"
   ]
  },
  {
   "cell_type": "code",
   "execution_count": null,
   "id": "97d2c1a1",
   "metadata": {
    "scrolled": true
   },
   "outputs": [],
   "source": [
    "\n"
   ]
  },
  {
   "cell_type": "code",
   "execution_count": 2,
   "id": "aede63b0",
   "metadata": {},
   "outputs": [
    {
     "ename": "NameError",
     "evalue": "name 'model' is not defined",
     "output_type": "error",
     "traceback": [
      "\u001b[0;31m---------------------------------------------------------------------------\u001b[0m",
      "\u001b[0;31mNameError\u001b[0m                                 Traceback (most recent call last)",
      "\u001b[0;32m<ipython-input-2-acf640eede2f>\u001b[0m in \u001b[0;36m<module>\u001b[0;34m\u001b[0m\n\u001b[1;32m      1\u001b[0m \u001b[0;32mfrom\u001b[0m \u001b[0mPlotting_AE\u001b[0m \u001b[0;32mimport\u001b[0m \u001b[0mresidual_plot\u001b[0m\u001b[0;34m\u001b[0m\u001b[0;34m\u001b[0m\u001b[0m\n\u001b[0;32m----> 2\u001b[0;31m \u001b[0mresidual_plot\u001b[0m\u001b[0;34m(\u001b[0m\u001b[0mmodel\u001b[0m\u001b[0;34m,\u001b[0m\u001b[0mtest_x\u001b[0m\u001b[0;34m,\u001b[0m\u001b[0mtrain_x\u001b[0m\u001b[0;34m)\u001b[0m\u001b[0;34m\u001b[0m\u001b[0;34m\u001b[0m\u001b[0m\n\u001b[0m",
      "\u001b[0;31mNameError\u001b[0m: name 'model' is not defined"
     ]
    }
   ],
   "source": [
    "from Plotting_AE import residual_plot\n",
    "residual_plot(model,test_x,train_x)"
   ]
  },
  {
   "cell_type": "raw",
   "id": "8339a13b",
   "metadata": {},
   "source": []
  }
 ],
 "metadata": {
  "kernelspec": {
   "display_name": "Python 3",
   "language": "python",
   "name": "python3"
  },
  "language_info": {
   "codemirror_mode": {
    "name": "ipython",
    "version": 3
   },
   "file_extension": ".py",
   "mimetype": "text/x-python",
   "name": "python",
   "nbconvert_exporter": "python",
   "pygments_lexer": "ipython3",
   "version": "3.8.10"
  }
 },
 "nbformat": 4,
 "nbformat_minor": 5
}
